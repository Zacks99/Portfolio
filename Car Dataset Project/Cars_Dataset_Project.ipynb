{
 "cells": [
  {
   "cell_type": "markdown",
   "metadata": {},
   "source": [
    "# Introduction "
   ]
  },
  {
   "cell_type": "markdown",
   "metadata": {},
   "source": [
    "### Step 1.Import the necessary libraries"
   ]
  },
  {
   "cell_type": "code",
   "execution_count": 1,
   "metadata": {},
   "outputs": [],
   "source": [
    "import pandas as pd \n",
    "import numpy as np "
   ]
  },
  {
   "cell_type": "markdown",
   "metadata": {},
   "source": [
    "### Step 2.import the DataSet "
   ]
  },
  {
   "cell_type": "code",
   "execution_count": 4,
   "metadata": {},
   "outputs": [
    {
     "data": {
      "text/html": [
       "<div>\n",
       "<style scoped>\n",
       "    .dataframe tbody tr th:only-of-type {\n",
       "        vertical-align: middle;\n",
       "    }\n",
       "\n",
       "    .dataframe tbody tr th {\n",
       "        vertical-align: top;\n",
       "    }\n",
       "\n",
       "    .dataframe thead th {\n",
       "        text-align: right;\n",
       "    }\n",
       "</style>\n",
       "<table border=\"1\" class=\"dataframe\">\n",
       "  <thead>\n",
       "    <tr style=\"text-align: right;\">\n",
       "      <th></th>\n",
       "      <th>Name</th>\n",
       "      <th>Make</th>\n",
       "      <th>Colour</th>\n",
       "      <th>Mileage</th>\n",
       "      <th>Initial Price</th>\n",
       "      <th>Saftey Index</th>\n",
       "      <th>Saftey Classification</th>\n",
       "      <th>Engine Type</th>\n",
       "      <th>Seating Capacity</th>\n",
       "      <th>Seat Classification</th>\n",
       "      <th>Varient</th>\n",
       "      <th>Car Type</th>\n",
       "    </tr>\n",
       "  </thead>\n",
       "  <tbody>\n",
       "    <tr>\n",
       "      <th>0</th>\n",
       "      <td>Harrier</td>\n",
       "      <td>Tata</td>\n",
       "      <td>Crome/ Silver</td>\n",
       "      <td>22</td>\n",
       "      <td>950000</td>\n",
       "      <td>4.5</td>\n",
       "      <td>Good</td>\n",
       "      <td>Petrol</td>\n",
       "      <td>5</td>\n",
       "      <td>5 seater</td>\n",
       "      <td>Mid</td>\n",
       "      <td>Fuel Efficient</td>\n",
       "    </tr>\n",
       "    <tr>\n",
       "      <th>1</th>\n",
       "      <td>i20</td>\n",
       "      <td>Hundai</td>\n",
       "      <td>White</td>\n",
       "      <td>20</td>\n",
       "      <td>975000</td>\n",
       "      <td>4.0</td>\n",
       "      <td>Good</td>\n",
       "      <td>Diesel</td>\n",
       "      <td>4</td>\n",
       "      <td>4 seater</td>\n",
       "      <td>Mid</td>\n",
       "      <td>Power and fuel efficient</td>\n",
       "    </tr>\n",
       "    <tr>\n",
       "      <th>2</th>\n",
       "      <td>Creta</td>\n",
       "      <td>Hundai</td>\n",
       "      <td>White</td>\n",
       "      <td>19</td>\n",
       "      <td>1475000</td>\n",
       "      <td>4.5</td>\n",
       "      <td>Good</td>\n",
       "      <td>Diesel</td>\n",
       "      <td>5</td>\n",
       "      <td>5 seater</td>\n",
       "      <td>Mid</td>\n",
       "      <td>Power and fuel efficient</td>\n",
       "    </tr>\n",
       "    <tr>\n",
       "      <th>3</th>\n",
       "      <td>Harrier</td>\n",
       "      <td>Tata</td>\n",
       "      <td>Mat black</td>\n",
       "      <td>22</td>\n",
       "      <td>900000</td>\n",
       "      <td>4.5</td>\n",
       "      <td>Good</td>\n",
       "      <td>Diesel</td>\n",
       "      <td>5</td>\n",
       "      <td>5 seater</td>\n",
       "      <td>Basic</td>\n",
       "      <td>Fuel Efficient</td>\n",
       "    </tr>\n",
       "    <tr>\n",
       "      <th>4</th>\n",
       "      <td>Verna</td>\n",
       "      <td>Hundai</td>\n",
       "      <td>Dark Blue</td>\n",
       "      <td>17</td>\n",
       "      <td>1275000</td>\n",
       "      <td>4.0</td>\n",
       "      <td>Good</td>\n",
       "      <td>Petrol</td>\n",
       "      <td>4</td>\n",
       "      <td>4 seater</td>\n",
       "      <td>Basic</td>\n",
       "      <td>Power</td>\n",
       "    </tr>\n",
       "  </tbody>\n",
       "</table>\n",
       "</div>"
      ],
      "text/plain": [
       "      Name    Make         Colour  Mileage  Initial Price  Saftey Index  \\\n",
       "0  Harrier    Tata  Crome/ Silver       22         950000           4.5   \n",
       "1      i20  Hundai          White       20         975000           4.0   \n",
       "2    Creta  Hundai          White       19        1475000           4.5   \n",
       "3  Harrier    Tata      Mat black       22         900000           4.5   \n",
       "4    Verna  Hundai      Dark Blue       17        1275000           4.0   \n",
       "\n",
       "  Saftey Classification Engine Type  Seating Capacity Seat Classification  \\\n",
       "0                  Good      Petrol                 5            5 seater   \n",
       "1                  Good      Diesel                 4            4 seater   \n",
       "2                  Good      Diesel                 5            5 seater   \n",
       "3                  Good      Diesel                 5            5 seater   \n",
       "4                  Good      Petrol                 4            4 seater   \n",
       "\n",
       "  Varient                  Car Type  \n",
       "0     Mid            Fuel Efficient  \n",
       "1     Mid  Power and fuel efficient  \n",
       "2     Mid  Power and fuel efficient  \n",
       "3   Basic            Fuel Efficient  \n",
       "4   Basic                    Power   "
      ]
     },
     "execution_count": 4,
     "metadata": {},
     "output_type": "execute_result"
    }
   ],
   "source": [
    "cars = pd.read_csv('car_dataset.csv')\n",
    "cars.head()"
   ]
  },
  {
   "cell_type": "markdown",
   "metadata": {},
   "source": [
    "### Step 3 . Data Understanding "
   ]
  },
  {
   "cell_type": "code",
   "execution_count": 5,
   "metadata": {},
   "outputs": [
    {
     "data": {
      "text/plain": [
       "(521, 12)"
      ]
     },
     "execution_count": 5,
     "metadata": {},
     "output_type": "execute_result"
    }
   ],
   "source": [
    "cars.shape"
   ]
  },
  {
   "cell_type": "code",
   "execution_count": 6,
   "metadata": {},
   "outputs": [
    {
     "data": {
      "text/plain": [
       "Index(['Name', 'Make', 'Colour', 'Mileage', 'Initial Price', 'Saftey Index',\n",
       "       'Saftey Classification', 'Engine Type', 'Seating Capacity',\n",
       "       'Seat Classification', 'Varient', 'Car Type'],\n",
       "      dtype='object')"
      ]
     },
     "execution_count": 6,
     "metadata": {},
     "output_type": "execute_result"
    }
   ],
   "source": [
    "cars.columns"
   ]
  },
  {
   "cell_type": "code",
   "execution_count": 7,
   "metadata": {},
   "outputs": [
    {
     "data": {
      "text/plain": [
       "Name                      object\n",
       "Make                      object\n",
       "Colour                    object\n",
       "Mileage                    int64\n",
       "Initial Price              int64\n",
       "Saftey Index             float64\n",
       "Saftey Classification     object\n",
       "Engine Type               object\n",
       "Seating Capacity           int64\n",
       "Seat Classification       object\n",
       "Varient                   object\n",
       "Car Type                  object\n",
       "dtype: object"
      ]
     },
     "execution_count": 7,
     "metadata": {},
     "output_type": "execute_result"
    }
   ],
   "source": [
    "cars.dtypes"
   ]
  },
  {
   "cell_type": "code",
   "execution_count": 8,
   "metadata": {},
   "outputs": [
    {
     "data": {
      "text/html": [
       "<div>\n",
       "<style scoped>\n",
       "    .dataframe tbody tr th:only-of-type {\n",
       "        vertical-align: middle;\n",
       "    }\n",
       "\n",
       "    .dataframe tbody tr th {\n",
       "        vertical-align: top;\n",
       "    }\n",
       "\n",
       "    .dataframe thead th {\n",
       "        text-align: right;\n",
       "    }\n",
       "</style>\n",
       "<table border=\"1\" class=\"dataframe\">\n",
       "  <thead>\n",
       "    <tr style=\"text-align: right;\">\n",
       "      <th></th>\n",
       "      <th>Mileage</th>\n",
       "      <th>Initial Price</th>\n",
       "      <th>Saftey Index</th>\n",
       "      <th>Seating Capacity</th>\n",
       "    </tr>\n",
       "  </thead>\n",
       "  <tbody>\n",
       "    <tr>\n",
       "      <th>count</th>\n",
       "      <td>521.000000</td>\n",
       "      <td>5.210000e+02</td>\n",
       "      <td>521.000000</td>\n",
       "      <td>521.000000</td>\n",
       "    </tr>\n",
       "    <tr>\n",
       "      <th>mean</th>\n",
       "      <td>20.003839</td>\n",
       "      <td>1.242898e+06</td>\n",
       "      <td>4.362764</td>\n",
       "      <td>5.107486</td>\n",
       "    </tr>\n",
       "    <tr>\n",
       "      <th>std</th>\n",
       "      <td>3.961835</td>\n",
       "      <td>7.243033e+05</td>\n",
       "      <td>0.449225</td>\n",
       "      <td>1.223159</td>\n",
       "    </tr>\n",
       "    <tr>\n",
       "      <th>min</th>\n",
       "      <td>10.000000</td>\n",
       "      <td>4.500000e+05</td>\n",
       "      <td>3.500000</td>\n",
       "      <td>4.000000</td>\n",
       "    </tr>\n",
       "    <tr>\n",
       "      <th>25%</th>\n",
       "      <td>17.000000</td>\n",
       "      <td>8.750000e+05</td>\n",
       "      <td>4.000000</td>\n",
       "      <td>4.000000</td>\n",
       "    </tr>\n",
       "    <tr>\n",
       "      <th>50%</th>\n",
       "      <td>20.000000</td>\n",
       "      <td>1.025000e+06</td>\n",
       "      <td>4.500000</td>\n",
       "      <td>5.000000</td>\n",
       "    </tr>\n",
       "    <tr>\n",
       "      <th>75%</th>\n",
       "      <td>24.000000</td>\n",
       "      <td>1.475000e+06</td>\n",
       "      <td>4.500000</td>\n",
       "      <td>7.000000</td>\n",
       "    </tr>\n",
       "    <tr>\n",
       "      <th>max</th>\n",
       "      <td>25.000000</td>\n",
       "      <td>4.050000e+06</td>\n",
       "      <td>5.000000</td>\n",
       "      <td>7.000000</td>\n",
       "    </tr>\n",
       "  </tbody>\n",
       "</table>\n",
       "</div>"
      ],
      "text/plain": [
       "          Mileage  Initial Price  Saftey Index  Seating Capacity\n",
       "count  521.000000   5.210000e+02    521.000000        521.000000\n",
       "mean    20.003839   1.242898e+06      4.362764          5.107486\n",
       "std      3.961835   7.243033e+05      0.449225          1.223159\n",
       "min     10.000000   4.500000e+05      3.500000          4.000000\n",
       "25%     17.000000   8.750000e+05      4.000000          4.000000\n",
       "50%     20.000000   1.025000e+06      4.500000          5.000000\n",
       "75%     24.000000   1.475000e+06      4.500000          7.000000\n",
       "max     25.000000   4.050000e+06      5.000000          7.000000"
      ]
     },
     "execution_count": 8,
     "metadata": {},
     "output_type": "execute_result"
    }
   ],
   "source": [
    "cars.describe()"
   ]
  },
  {
   "cell_type": "code",
   "execution_count": 9,
   "metadata": {},
   "outputs": [
    {
     "data": {
      "text/plain": [
       "Name                     521\n",
       "Make                     521\n",
       "Colour                   521\n",
       "Mileage                  521\n",
       "Initial Price            521\n",
       "Saftey Index             521\n",
       "Saftey Classification    521\n",
       "Engine Type              521\n",
       "Seating Capacity         521\n",
       "Seat Classification      521\n",
       "Varient                  521\n",
       "Car Type                 521\n",
       "dtype: int64"
      ]
     },
     "execution_count": 9,
     "metadata": {},
     "output_type": "execute_result"
    }
   ],
   "source": [
    "cars.count()"
   ]
  },
  {
   "cell_type": "code",
   "execution_count": 11,
   "metadata": {},
   "outputs": [
    {
     "data": {
      "text/plain": [
       "Name                     0\n",
       "Make                     0\n",
       "Colour                   0\n",
       "Mileage                  0\n",
       "Initial Price            0\n",
       "Saftey Index             0\n",
       "Saftey Classification    0\n",
       "Engine Type              0\n",
       "Seating Capacity         0\n",
       "Seat Classification      0\n",
       "Varient                  0\n",
       "Car Type                 0\n",
       "dtype: int64"
      ]
     },
     "execution_count": 11,
     "metadata": {},
     "output_type": "execute_result"
    }
   ],
   "source": [
    "cars.isna().sum() #ni missing data "
   ]
  },
  {
   "cell_type": "code",
   "execution_count": 12,
   "metadata": {},
   "outputs": [
    {
     "data": {
      "text/plain": [
       "Name                     25\n",
       "Make                      8\n",
       "Colour                    8\n",
       "Mileage                  11\n",
       "Initial Price            32\n",
       "Saftey Index              4\n",
       "Saftey Classification     3\n",
       "Engine Type               2\n",
       "Seating Capacity          3\n",
       "Seat Classification       3\n",
       "Varient                   3\n",
       "Car Type                  3\n",
       "dtype: int64"
      ]
     },
     "execution_count": 12,
     "metadata": {},
     "output_type": "execute_result"
    }
   ],
   "source": [
    "cars.nunique()"
   ]
  },
  {
   "cell_type": "code",
   "execution_count": null,
   "metadata": {},
   "outputs": [],
   "source": []
  },
  {
   "cell_type": "code",
   "execution_count": null,
   "metadata": {},
   "outputs": [],
   "source": []
  },
  {
   "cell_type": "markdown",
   "metadata": {},
   "source": [
    "### Step 4 . Data Preparation "
   ]
  }
 ],
 "metadata": {
  "kernelspec": {
   "display_name": "base",
   "language": "python",
   "name": "python3"
  },
  "language_info": {
   "codemirror_mode": {
    "name": "ipython",
    "version": 3
   },
   "file_extension": ".py",
   "mimetype": "text/x-python",
   "name": "python",
   "nbconvert_exporter": "python",
   "pygments_lexer": "ipython3",
   "version": "3.10.9"
  },
  "orig_nbformat": 4
 },
 "nbformat": 4,
 "nbformat_minor": 2
}
